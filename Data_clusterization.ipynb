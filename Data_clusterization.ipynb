{
  "nbformat": 4,
  "nbformat_minor": 0,
  "metadata": {
    "colab": {
      "name": "Data_clusterization.ipynb",
      "provenance": [],
      "authorship_tag": "ABX9TyOVcBJGUvAP4/N2uCCjUzRz",
      "include_colab_link": true
    },
    "kernelspec": {
      "name": "python3",
      "display_name": "Python 3"
    }
  },
  "cells": [
    {
      "cell_type": "markdown",
      "metadata": {
        "id": "view-in-github",
        "colab_type": "text"
      },
      "source": [
        "<a href=\"https://colab.research.google.com/github/ahill132009/Machine-Learning-Course-SPBU/blob/main/Data_clusterization.ipynb\" target=\"_parent\"><img src=\"https://colab.research.google.com/assets/colab-badge.svg\" alt=\"Open In Colab\"/></a>"
      ]
    },
    {
      "cell_type": "code",
      "metadata": {
        "id": "75EkSRVVumxG"
      },
      "source": [
        "# for importing Summarizer.py in Colab\n",
        "\n",
        "!pip install kora -q\n",
        "from kora import drive\n",
        "drive.link_nbs()"
      ],
      "execution_count": null,
      "outputs": []
    },
    {
      "cell_type": "code",
      "metadata": {
        "id": "xpFPvLpKu1Yd"
      },
      "source": [
        "import Summarizer"
      ],
      "execution_count": null,
      "outputs": []
    },
    {
      "cell_type": "code",
      "metadata": {
        "id": "yhud1HAavNwr"
      },
      "source": [
        "!wget https://www.dropbox.com/s/k2egt3sug0hb185/gazeta_val.jsonl\n",
        "!pip install rouge"
      ],
      "execution_count": null,
      "outputs": []
    },
    {
      "cell_type": "code",
      "metadata": {
        "id": "CKCnX2lpvWWN"
      },
      "source": [
        "import pandas as pd\n",
        "data = pd.read_json(path_or_buf='gazeta_val.jsonl', lines=True)"
      ],
      "execution_count": null,
      "outputs": []
    },
    {
      "cell_type": "code",
      "metadata": {
        "collapsed": true,
        "id": "ZjXS0CipvdiM"
      },
      "source": [
        "from rouge import Rouge\n",
        "from tqdm import tqdm\n",
        "\n",
        "rouge = Rouge()\n",
        "summarizer = Summarizer.Summarizer()\n",
        "\n",
        "f_score = []\n",
        "\n",
        "for num in tqdm(range(500)):\n",
        "  x = summarizer.preprocess(data.text.iloc[num])\n",
        "  x = summarizer.average_sentence_vector(x)\n",
        "  x = summarizer.fit_clustering(x)\n",
        "  summary = summarizer.get_summary(x)\n",
        "  scores = rouge.get_scores(summary, data.summary.iloc[num])\n",
        "  f_score.append(scores[0]['rouge-1']['f'])"
      ],
      "execution_count": null,
      "outputs": []
    },
    {
      "cell_type": "code",
      "metadata": {
        "colab": {
          "base_uri": "https://localhost:8080/"
        },
        "id": "jimmaZVRv9qL",
        "outputId": "18440ce1-eae6-404b-b1be-fe3ed8ffe6ed"
      },
      "source": [
        "print(f'F-Score of clusterization is {sum(f_score)/len(f_score)}')\n",
        "\n"
      ],
      "execution_count": 35,
      "outputs": [
        {
          "output_type": "stream",
          "text": [
            "F-Score of clusterization is 0.1503678322227471\n"
          ],
          "name": "stdout"
        }
      ]
    },
    {
      "cell_type": "code",
      "metadata": {
        "id": "n7WYYEzk1ayj"
      },
      "source": [
        ""
      ],
      "execution_count": null,
      "outputs": []
    }
  ]
}